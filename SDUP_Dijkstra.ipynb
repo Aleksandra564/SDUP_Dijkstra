{
  "cells": [
    {
      "attachments": {},
      "cell_type": "markdown",
      "metadata": {
        "id": "uFBKONjXT6jk"
      },
      "source": [
        "Algorytm Dijkstry"
      ]
    },
    {
      "cell_type": "code",
      "execution_count": null,
      "metadata": {
        "id": "6soIU3MczD52"
      },
      "outputs": [],
      "source": [
        "def Dijkstra(graph, source):\n",
        "  Q = []\n",
        "  dist = [float(\"inf\")]*len(graph)\n",
        "  prev = [None]*len(graph)\n",
        "\n",
        "  for v in range(len(graph)):\n",
        "    Q.append(v)\n",
        "  dist[source] = 0\n",
        "  # print(\"dist[source] =\", dist[source])       #\n",
        "\n",
        "  while Q:\n",
        "    # print(\"Q =\", Q)                           #\n",
        "    # print(\"v =\", v)                           #\n",
        "    # print(\"min_dist =\", min_dist)             #\n",
        "\n",
        "    min_dist = float(\"inf\")\n",
        "    for v in Q:\n",
        "    # print(\"v =\", v)                           #\n",
        "    # print(\"min_dist =\", min_dist)             #\n",
        "      if dist[v] < min_dist:\n",
        "        min_dist = dist[v]\n",
        "        u = v\n",
        "    # print(\"dist[v] =\", dist[v])               #\n",
        "    # print(\"min_dist =\", min_dist)             #\n",
        "    Q.remove(u)\n",
        "\n",
        "    for neighbor in range(len(graph)):\n",
        "      # print(\"neighbor =\", neighbor)           #\n",
        "      edge = graph[u][neighbor]\n",
        "      # print(\"edge =\", edge)                   #\n",
        "      if neighbor in Q and edge != 0:\n",
        "        alt = dist[u] + edge\n",
        "        if alt < dist[neighbor]:\n",
        "          dist[neighbor] = alt\n",
        "          prev[neighbor] = u\n",
        "  \n",
        "  return dist, prev"
      ]
    },
    {
      "cell_type": "code",
      "execution_count": null,
      "metadata": {
        "colab": {
          "base_uri": "https://localhost:8080/"
        },
        "id": "F6I_5bO1OAXE",
        "outputId": "9420dbfb-0e46-4e61-84ba-86253021245a"
      },
      "outputs": [
        {
          "name": "stdout",
          "output_type": "stream",
          "text": [
            "dist: [0, 1, 1, 8, 8, 2, 5, 4, 6]\n",
            "prev: [None, 0, 0, 0, 7, 2, 7, 5, 6]\n"
          ]
        }
      ],
      "source": [
        "# GRAF 1\n",
        "\n",
        "graph = [[0, 1, 1, 8, 0, 3, 0, 0, 0], [1, 0, 0, 0, 0, 0, 5, 0, 0], [1, 0, 0, 0, 0, 1, 0, 0, 0], [8, 0, 0, 0, 2, 0, 0, 0, 0], [0, 0, 0, 2, 0, 0, 0, 4, 0], [3, 0, 1, 0, 0, 0, 0, 2, 0], [0, 5, 0, 0, 0, 0, 0, 1, 1], [0, 0, 0, 0, 4, 2, 1, 0, 0], [0, 0, 0, 0, 0, 0, 1, 0, 0]]\n",
        "source = 0\n",
        "\n",
        "dist, prev = Dijkstra(graph, source)\n",
        "\n",
        "print(\"dist:\", dist)\n",
        "print(\"prev:\", prev)"
      ]
    },
    {
      "attachments": {},
      "cell_type": "markdown",
      "metadata": {
        "id": "B_bOT5daT_IT"
      },
      "source": [
        "Ulepszony algorytm Dijkstry"
      ]
    },
    {
      "cell_type": "code",
      "execution_count": null,
      "metadata": {
        "id": "B4-WDnuZT6FT"
      },
      "outputs": [],
      "source": [
        "def Dijkstra(graph, source):\n",
        "  Q = []\n",
        "  dist = [float(\"inf\")]*len(graph)\n",
        "  prev = [None]*len(graph)\n",
        "\n",
        "  for v in range(len(graph)):\n",
        "    Q.append(v)\n",
        "  dist[source] = 0\n",
        "\n",
        "  while Q:\n",
        "    min_dist = float(\"inf\")\n",
        "    for v in Q:\n",
        "      if dist[v] < min_dist:\n",
        "        min_dist = dist[v]\n",
        "        u = v               # przypisuje numer nieodwiedzonego wierzchołka o najmniejszym dist do zmiennej u\n",
        "    Q.remove(u)\n",
        "\n",
        "    for neighbor in range(len(graph)):\n",
        "      edge = graph[u][neighbor]\n",
        "      if neighbor in Q and edge != 0:\n",
        "        alt = dist[u] + edge\n",
        "        if alt < dist[neighbor]:\n",
        "          dist[neighbor] = alt\n",
        "          prev[neighbor] = u\n",
        "  \n",
        "  return dist, prev"
      ]
    },
    {
      "cell_type": "code",
      "execution_count": null,
      "metadata": {
        "colab": {
          "base_uri": "https://localhost:8080/"
        },
        "id": "49gcp2OrUDbi",
        "outputId": "025907cb-98e9-4644-c920-9afb61493278"
      },
      "outputs": [
        {
          "name": "stdout",
          "output_type": "stream",
          "text": [
            "dist: [0, 1, 1, 8, 8, 2, 5, 4, 6]\n",
            "prev: [None, 0, 0, 0, 7, 2, 7, 5, 6]\n"
          ]
        }
      ],
      "source": [
        "# GRAF 1\n",
        "\n",
        "graph = [[0, 1, 1, 8, 0, 3, 0, 0, 0], [1, 0, 0, 0, 0, 0, 5, 0, 0], [1, 0, 0, 0, 0, 1, 0, 0, 0], [8, 0, 0, 0, 2, 0, 0, 0, 0], [0, 0, 0, 2, 0, 0, 0, 4, 0], [3, 0, 1, 0, 0, 0, 0, 2, 0], [0, 5, 0, 0, 0, 0, 0, 1, 1], [0, 0, 0, 0, 4, 2, 1, 0, 0], [0, 0, 0, 0, 0, 0, 1, 0, 0]]\n",
        "source = 0\n",
        "\n",
        "dist, prev = Dijkstra(graph, source)\n",
        "\n",
        "print(\"dist:\", dist)\n",
        "print(\"prev:\", prev)"
      ]
    },
    {
      "attachments": {},
      "cell_type": "markdown",
      "metadata": {
        "id": "uQUAq40K-fQU"
      },
      "source": [
        "DIJKSTRA - PSEUDOKOD PRZEKSZTAŁCONY NA VERILOGA"
      ]
    },
    {
      "cell_type": "code",
      "execution_count": null,
      "metadata": {
        "id": "oei__NFj6bdB"
      },
      "outputs": [],
      "source": [
        "def Dijkstra(graph, source):\n",
        "  graph_length = len(graph)\n",
        "  distance = [float(\"inf\")]*graph_length\n",
        "  prev = [None]*graph_length\n",
        "  visited = [False]*graph_length\n",
        "\n",
        "  distance[source] = 0\n",
        "\n",
        "  for i in range(graph_length):\n",
        "    min_dist = float(\"inf\")\n",
        "\n",
        "    # FIND_NEAREST_UNVISITED_VERTEX\n",
        "    for v in range(graph_length):\n",
        "      if not visited[v] and distance[v] < min_dist:\n",
        "        min_dist = distance[v]\n",
        "        u = v               # przypisuje numer nieodwiedzonego wierzchołka o najmniejszym dist do zmiennej u\n",
        "    visited[u] = True\n",
        "\n",
        "    # FIND_ALTERNATIVE_PATHS\n",
        "    for neighbor in range(graph_length):\n",
        "      edge = graph[u][neighbor]\n",
        "      if edge != 0:\n",
        "        alt = distance[u] + edge\n",
        "        if alt < distance[neighbor]:\n",
        "          distance[neighbor] = alt\n",
        "          prev[neighbor] = u\n",
        "  \n",
        "  return distance, prev"
      ]
    },
    {
      "cell_type": "code",
      "execution_count": null,
      "metadata": {
        "colab": {
          "base_uri": "https://localhost:8080/"
        },
        "id": "NI-FDh1v6ePU",
        "outputId": "eaec2f0c-ee14-4eca-a61d-fcdfdc435d29"
      },
      "outputs": [
        {
          "name": "stdout",
          "output_type": "stream",
          "text": [
            "distance: [0, 1, 1, 8, 8, 2, 5, 4, 6]\n",
            "prev: [None, 0, 0, 0, 7, 2, 7, 5, 6]\n"
          ]
        }
      ],
      "source": [
        "# GRAF 1\n",
        "\n",
        "graph = [[0, 1, 1, 8, 0, 3, 0, 0, 0], [1, 0, 0, 0, 0, 0, 5, 0, 0], [1, 0, 0, 0, 0, 1, 0, 0, 0], [8, 0, 0, 0, 2, 0, 0, 0, 0], [0, 0, 0, 2, 0, 0, 0, 4, 0], [3, 0, 1, 0, 0, 0, 0, 2, 0], [0, 5, 0, 0, 0, 0, 0, 1, 1], [0, 0, 0, 0, 4, 2, 1, 0, 0], [0, 0, 0, 0, 0, 0, 1, 0, 0]]\n",
        "source = 0\n",
        "\n",
        "distance, prev = Dijkstra(graph, source)\n",
        "\n",
        "print(\"distance:\", distance)\n",
        "print(\"prev:\", prev)"
      ]
    },
    {
      "cell_type": "code",
      "execution_count": null,
      "metadata": {
        "colab": {
          "base_uri": "https://localhost:8080/"
        },
        "id": "k9QqSSAYqTyc",
        "outputId": "5c82e9fa-ad31-4a8b-b7a8-5c824bc49cba"
      },
      "outputs": [
        {
          "name": "stdout",
          "output_type": "stream",
          "text": [
            "distance: [0, 5, 7, 6, 3, 5, 6, 9, 10, 15, 18]\n",
            "prev: [None, 0, 1, 4, 0, 4, 5, 6, 7, 8, 9]\n"
          ]
        }
      ],
      "source": [
        "# GRAF 2\n",
        "\n",
        "graph = [[0, 5, 0, 0, 3, 0, 0, 0, 0, 0, 0], [5, 0, 2, 1, 0, 0, 0, 0, 0, 0, 0], [0, 2, 0, 9, 0, 0, 0, 0, 0, 0, 0], [0, 1, 9, 0, 3, 0, 2, 5, 0, 0, 0], [3, 0, 0, 3, 0, 2, 0, 0, 0, 0, 0], [0, 0, 0, 0, 2, 0, 1, 0, 6, 0, 0], [0, 0, 0, 2, 0, 1, 0, 3, 0, 0, 0], [0, 0, 0, 0, 0, 0, 3, 0, 1, 0, 0], [0, 0, 0, 0, 0, 6, 0, 1, 0, 5, 9], [0, 0, 0, 0, 0, 0, 0, 0, 5, 0, 3], [0, 0, 0, 0, 0, 0, 0, 0, 9, 3, 0]]\n",
        "source = 0\n",
        "\n",
        "distance, prev = Dijkstra(graph, source)\n",
        "\n",
        "print(\"distance:\", distance)\n",
        "print(\"prev:\", prev)\n"
      ]
    },
    {
      "attachments": {},
      "cell_type": "markdown",
      "metadata": {
        "id": "B6WDHDEMBpaa"
      },
      "source": [
        "MASZYNA STANÓW"
      ]
    },
    {
      "attachments": {},
      "cell_type": "markdown",
      "metadata": {
        "id": "04f33U8cCfMh"
      },
      "source": [
        "Stany:\n",
        "- IDLE\n",
        "- FIND_NEAREST_UNVISITED_VERTEX\n",
        "- FIND_ALTERNATIVE_PATHS"
      ]
    },
    {
      "cell_type": "code",
      "execution_count": null,
      "metadata": {
        "id": "Ag59hAs5UjQ3"
      },
      "outputs": [],
      "source": [
        "from enum import Enum\n",
        "\n",
        "def Dijkstra(graph, source):\n",
        "\n",
        "  class States(Enum):\n",
        "    IDLE = 0\n",
        "    FIND_NEAREST_UNVISITED_VERTEX = 1\n",
        "    FIND_ALTERNATIVE_PATH = 2\n",
        "\n",
        "  state = States.IDLE\n",
        "  wprowadzono_graf = 1  # DO USUNIĘCIA - TEST\n",
        "\n",
        "  while True:\n",
        "    \n",
        "    if state == States.IDLE:\n",
        "      if wprowadzono_graf == 1:\n",
        "        graph_length = len(graph)\n",
        "        distance = [float(\"inf\")]*graph_length\n",
        "        prev = [None]*graph_length\n",
        "        visited = [False]*graph_length\n",
        "        distance[source] = 0\n",
        "\n",
        "        min_dist = float(\"inf\")\n",
        "        vertices_counter = 0\n",
        "        neighbors_counter = 0\n",
        "        counter = 0\n",
        "\n",
        "        state = States.FIND_NEAREST_UNVISITED_VERTEX\n",
        "      else:\n",
        "        state = States.IDLE\n",
        "\n",
        "\n",
        "    elif state == States.FIND_NEAREST_UNVISITED_VERTEX:\n",
        "      if vertices_counter < graph_length:\n",
        "        if not visited[vertices_counter] and distance[vertices_counter] < min_dist:\n",
        "          min_dist = distance[vertices_counter]\n",
        "          u = vertices_counter               # przypisuje numer nieodwiedzonego wierzchołka o najmniejszym dist do zmiennej u\n",
        "        vertices_counter += 1\n",
        "        state = States.FIND_NEAREST_UNVISITED_VERTEX\n",
        "      else:\n",
        "        visited[u] = True\n",
        "        vertices_counter = 0\n",
        "        state = States.FIND_ALTERNATIVE_PATH\n",
        "\n",
        "    elif state == States.FIND_ALTERNATIVE_PATH:\n",
        "      if neighbors_counter < graph_length:\n",
        "        edge = graph[u][neighbors_counter]   # sprawdzanie sąsiadów u\n",
        "        if edge != 0:\n",
        "          alt = distance[u] + edge\n",
        "          if alt < distance[neighbors_counter]:\n",
        "            distance[neighbors_counter] = alt\n",
        "            prev[neighbors_counter] = u\n",
        "        neighbors_counter += 1\n",
        "        state = States.FIND_ALTERNATIVE_PATH\n",
        "      elif counter < graph_length:\n",
        "        min_dist = float(\"inf\")\n",
        "        neighbors_counter = 0\n",
        "        counter += 1\n",
        "        state = States.FIND_NEAREST_UNVISITED_VERTEX\n",
        "      else:\n",
        "        counter = 0\n",
        "        state = States.IDLE\n",
        "        return distance, prev   # albo sam print"
      ]
    },
    {
      "cell_type": "code",
      "execution_count": null,
      "metadata": {
        "colab": {
          "base_uri": "https://localhost:8080/"
        },
        "id": "aLnS8g2aBrQ9",
        "outputId": "1e09bf2f-96f6-4a50-8ca8-3ffa1de5e136"
      },
      "outputs": [
        {
          "name": "stdout",
          "output_type": "stream",
          "text": [
            "distance: [0, 1, 1, 8, 8, 2, 5, 4, 6]\n",
            "prev: [None, 0, 0, 0, 7, 2, 7, 5, 6]\n"
          ]
        }
      ],
      "source": [
        "# GRAF 1\n",
        "\n",
        "graph = [[0, 1, 1, 8, 0, 3, 0, 0, 0], [1, 0, 0, 0, 0, 0, 5, 0, 0], [1, 0, 0, 0, 0, 1, 0, 0, 0], [8, 0, 0, 0, 2, 0, 0, 0, 0], [0, 0, 0, 2, 0, 0, 0, 4, 0], [3, 0, 1, 0, 0, 0, 0, 2, 0], [0, 5, 0, 0, 0, 0, 0, 1, 1], [0, 0, 0, 0, 4, 2, 1, 0, 0], [0, 0, 0, 0, 0, 0, 1, 0, 0]]\n",
        "source = 0\n",
        "\n",
        "distance, prev = Dijkstra(graph, source)\n",
        "\n",
        "print(\"distance:\", distance)\n",
        "print(\"prev:\", prev)"
      ]
    },
    {
      "cell_type": "code",
      "execution_count": null,
      "metadata": {
        "colab": {
          "base_uri": "https://localhost:8080/"
        },
        "id": "hjFXUopz0Z2p",
        "outputId": "e083369b-f226-4f30-8fd0-c4bc235ce3ad"
      },
      "outputs": [
        {
          "name": "stdout",
          "output_type": "stream",
          "text": [
            "distance: [5, 4, 6, 3, 2, 0, 1, 4, 5, 10, 13]\n",
            "prev: [4, 3, 1, 6, 5, None, 5, 6, 7, 8, 9]\n"
          ]
        }
      ],
      "source": [
        "# GRAF 2\n",
        "\n",
        "graph = [[0, 5, 0, 0, 3, 0, 0, 0, 0, 0, 0], [5, 0, 2, 1, 0, 0, 0, 0, 0, 0, 0], [0, 2, 0, 9, 0, 0, 0, 0, 0, 0, 0], [0, 1, 9, 0, 3, 0, 2, 5, 0, 0, 0], [3, 0, 0, 3, 0, 2, 0, 0, 0, 0, 0], [0, 0, 0, 0, 2, 0, 1, 0, 6, 0, 0], [0, 0, 0, 2, 0, 1, 0, 3, 0, 0, 0], [0, 0, 0, 0, 0, 0, 3, 0, 1, 0, 0], [0, 0, 0, 0, 0, 6, 0, 1, 0, 5, 9], [0, 0, 0, 0, 0, 0, 0, 0, 5, 0, 3], [0, 0, 0, 0, 0, 0, 0, 0, 9, 3, 0]]\n",
        "source = 5\n",
        "\n",
        "distance, prev = Dijkstra(graph, source)\n",
        "\n",
        "print(\"distance:\", distance)\n",
        "print(\"prev:\", prev)\n"
      ]
    }
  ],
  "metadata": {
    "colab": {
      "provenance": []
    },
    "kernelspec": {
      "display_name": "Python 3",
      "name": "python3"
    },
    "language_info": {
      "name": "python"
    }
  },
  "nbformat": 4,
  "nbformat_minor": 0
}
